{
 "cells": [
  {
   "cell_type": "code",
   "execution_count": 1,
   "metadata": {},
   "outputs": [],
   "source": [
    "import cv2 as cv\n",
    "import os\n",
    "import time"
   ]
  },
  {
   "cell_type": "code",
   "execution_count": 2,
   "metadata": {},
   "outputs": [],
   "source": [
    "def set_path():\n",
    "    photos = os.listdir('Pics/')\n",
    "    pic_index = len(photos)\n",
    "    path ='Pics/Selfie'+'_'+str(pic_index)+'.jpg'\n",
    "    return path"
   ]
  },
  {
   "cell_type": "code",
   "execution_count": 3,
   "metadata": {},
   "outputs": [],
   "source": [
    "def click(path):\n",
    "    camera = cv.VideoCapture(0)    # webcam Index\n",
    "    if (camera.isOpened() != True):\n",
    "        camera.open()\n",
    "    ret,frame = camera.read()\n",
    "    cv.imwrite(path,frame)\n",
    "    cv.imshow('Image',frame)\n",
    "    \n",
    "    cv.destroyAllWindows()\n",
    "    \n",
    "    print('Photo saved Sucessfully at '+path)\n",
    "    fd = open('History.txt','a+')\n",
    "    fd.write(path)\n",
    "    fd.write(' ')\n",
    "    fd.write(time.ctime())\n",
    "    fd.write('\\n')\n",
    "    fd.close()"
   ]
  },
  {
   "cell_type": "code",
   "execution_count": 4,
   "metadata": {},
   "outputs": [
    {
     "name": "stdout",
     "output_type": "stream",
     "text": [
      "Photo saved Sucessfully at Pics/Selfie_1.jpg\n"
     ]
    }
   ],
   "source": [
    "path = set_path()\n",
    "click(path)"
   ]
  },
  {
   "cell_type": "code",
   "execution_count": null,
   "metadata": {},
   "outputs": [],
   "source": []
  }
 ],
 "metadata": {
  "kernelspec": {
   "display_name": "Python 2",
   "language": "python",
   "name": "python2"
  },
  "language_info": {
   "codemirror_mode": {
    "name": "ipython",
    "version": 2
   },
   "file_extension": ".py",
   "mimetype": "text/x-python",
   "name": "python",
   "nbconvert_exporter": "python",
   "pygments_lexer": "ipython2",
   "version": "2.7.16"
  }
 },
 "nbformat": 4,
 "nbformat_minor": 2
}
